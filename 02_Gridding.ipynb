{
  "nbformat": 4,
  "nbformat_minor": 0,
  "metadata": {
    "colab": {
      "provenance": [],
      "authorship_tag": "ABX9TyMjHT31drRaGSbGDY1Mubtu",
      "include_colab_link": true
    },
    "kernelspec": {
      "name": "python3",
      "display_name": "Python 3"
    },
    "language_info": {
      "name": "python"
    }
  },
  "cells": [
    {
      "cell_type": "markdown",
      "metadata": {
        "id": "view-in-github",
        "colab_type": "text"
      },
      "source": [
        "<a href=\"https://colab.research.google.com/github/aamatthews/2022UWCourse/blob/main/02_Gridding.ipynb\" target=\"_parent\"><img src=\"https://colab.research.google.com/assets/colab-badge.svg\" alt=\"Open In Colab\"/></a>"
      ]
    },
    {
      "cell_type": "markdown",
      "source": [
        "# Setup"
      ],
      "metadata": {
        "id": "PruSKWkioCaF"
      }
    },
    {
      "cell_type": "code",
      "source": [
        "!pip install arm-pyart"
      ],
      "metadata": {
        "id": "oqc5YQoQm33J"
      },
      "execution_count": null,
      "outputs": []
    },
    {
      "cell_type": "code",
      "source": [
        "!pip install basemap"
      ],
      "metadata": {
        "id": "w73i6a46rQfk"
      },
      "execution_count": null,
      "outputs": []
    },
    {
      "cell_type": "code",
      "execution_count": null,
      "metadata": {
        "id": "AwE9faw1nbLR"
      },
      "outputs": [],
      "source": [
        "!wget https://engineering.arm.gov/~amatthews/hou_data_sample/20220701.zip"
      ]
    },
    {
      "cell_type": "code",
      "source": [
        "!unzip 20220701.zip"
      ],
      "metadata": {
        "id": "mhI0anC4oESc"
      },
      "execution_count": null,
      "outputs": []
    },
    {
      "cell_type": "code",
      "source": [
        "import matplotlib.pyplot as plt\n",
        "import numpy as np\n",
        "import pyart\n",
        "import cartopy\n",
        "\n",
        "%matplotlib inline"
      ],
      "metadata": {
        "id": "gIkFPOqCmxPw"
      },
      "execution_count": null,
      "outputs": []
    },
    {
      "cell_type": "markdown",
      "source": [
        "# Introduction"
      ],
      "metadata": {
        "id": "WF4u9siVov_9"
      }
    },
    {
      "cell_type": "markdown",
      "source": [
        "One thing that can be very useful when using radar data is gridding - or mapping the radar polar cordinates to a cartesian grid. \n",
        "\n",
        "This can make it easier to compare the radar with other instruments. It is also helpful when you want to incorporate radar data into models, or compare with model output."
      ],
      "metadata": {
        "id": "r2TQb9eeo0l6"
      }
    },
    {
      "cell_type": "markdown",
      "source": [
        "PyART has a gridding algorithm, which is what I will use to show you this. We will walk through the example shown at: https://arm-doe.github.io/pyart/notebooks/mapping_data_to_a_cartesian_grid.html , with a few modifications as Colab does not play nicely with Cartopy so we are using an older Basemap plotting method in PyART."
      ],
      "metadata": {
        "id": "Q1udCzScwwBt"
      }
    },
    {
      "cell_type": "markdown",
      "source": [
        "# Gridding"
      ],
      "metadata": {
        "id": "KNdmmtmRxLqt"
      }
    },
    {
      "cell_type": "markdown",
      "source": [
        "Let's start by reading in the data."
      ],
      "metadata": {
        "id": "dCQ9CHlzmorK"
      }
    },
    {
      "cell_type": "code",
      "source": [
        "radar = pyart.io.read('/content/20220701/houcsapr2cfrS2.a1.20220701.192603.nc')"
      ],
      "metadata": {
        "id": "svuYdK7UoySL"
      },
      "execution_count": null,
      "outputs": []
    },
    {
      "cell_type": "markdown",
      "source": [
        "Next, lets create the grid object from the radar object, and plot it.\n",
        "\n",
        "Grid shape is the amount of points within a dimension. \n",
        "\n",
        "Grid limits is the dimension limits in meters."
      ],
      "metadata": {
        "id": "pfLlQSLDxEB7"
      }
    },
    {
      "cell_type": "code",
      "source": [
        "grid = pyart.map.grid_from_radars(radar, grid_shape=(41, 201, 201), \n",
        "                                  grid_limits=((0.,20000,), (-100000., 100000.), (-100000, 100000.)))"
      ],
      "metadata": {
        "id": "8OQBH7ezmudB"
      },
      "execution_count": null,
      "outputs": []
    },
    {
      "cell_type": "code",
      "source": [
        "fig = plt.figure(figsize=[8, 8])\n",
        "display = pyart.graph.GridMapDisplayBasemap(grid)\n",
        "display.plot_grid('reflectivity', level=5, vmin=-20, vmax=60)"
      ],
      "metadata": {
        "id": "gWmvqvyGrD5G"
      },
      "execution_count": null,
      "outputs": []
    },
    {
      "cell_type": "markdown",
      "source": [
        "##Exercise"
      ],
      "metadata": {
        "id": "6s1LjQvczEbm"
      }
    },
    {
      "cell_type": "markdown",
      "source": [
        "1. In the above plot, change the level around. What do you see happening? Why is this happening?"
      ],
      "metadata": {
        "id": "1DycewBVzG5C"
      }
    },
    {
      "cell_type": "markdown",
      "source": [
        "## Pseudo-RHIs\n",
        "\n"
      ],
      "metadata": {
        "id": "RyGKdWhhzO5A"
      }
    },
    {
      "cell_type": "markdown",
      "source": [
        "From this gridded data, we can make pseudo-RHIs through the gridded PPI data at any latitude or longitude we want. \n",
        "\n",
        "Below is a latitude slice, but we can change 'latitude' to 'longitude' to grab a longitudinal slice instead."
      ],
      "metadata": {
        "id": "mtIBm9V2yPvL"
      }
    },
    {
      "cell_type": "code",
      "source": [
        "display.plot_latitude_slice('reflectivity', lat=29.76, vmin=0, vmax=60)\n",
        "plt.xlim([-100, 100])"
      ],
      "metadata": {
        "id": "gmRxJYXyuNcS"
      },
      "execution_count": null,
      "outputs": []
    },
    {
      "cell_type": "code",
      "source": [
        "display.plot_longitude_slice('reflectivity', lon=-94.9, vmin=0, vmax=60)\n",
        "plt.xlim([-100, 100])"
      ],
      "metadata": {
        "id": "ZR2YSnX0yjLe"
      },
      "execution_count": null,
      "outputs": []
    },
    {
      "cell_type": "markdown",
      "source": [
        "## A better grid?"
      ],
      "metadata": {
        "id": "8DFDP8YzzbhD"
      }
    },
    {
      "cell_type": "markdown",
      "source": [
        "You can also change the weighting funtion and radius used when gridding to try to get a better grid. \n",
        "\n",
        "There is often an issue with radars that have higher elevation scans that when you go higher there start to be more gaps in the data, which is made more noticeable in the gridded data. Our radar's PPIs for this campaign are focused at lower levels so we don't have many issues showing up in the gridded data."
      ],
      "metadata": {
        "id": "Eb9NkGXtyeQN"
      }
    },
    {
      "cell_type": "code",
      "source": [
        "grid_better = pyart.map.grid_from_radars(\n",
        "    radar, grid_shape=(41, 201, 201), \n",
        "    grid_limits=((0.,20000,), (-100000., 100000.), (-100000, 100000.)),\n",
        "    roi_func='dist_beam', min_radius=1750.0, weighting_function='cressman')"
      ],
      "metadata": {
        "id": "kEvY6zBywPBd"
      },
      "execution_count": null,
      "outputs": []
    },
    {
      "cell_type": "code",
      "source": [
        "display = pyart.graph.GridMapDisplayBasemap(grid_better)\n",
        "display.plot_latitude_slice('reflectivity', lat=29.76, vmin=0, vmax=60)\n",
        "plt.xlim([-100, 100])"
      ],
      "metadata": {
        "id": "lhToc5qIwcw9"
      },
      "execution_count": null,
      "outputs": []
    },
    {
      "cell_type": "markdown",
      "source": [
        "## Exercise\n",
        "1. Grab one of the SACR PPI files and grid it. \n",
        "2. Take that gridded data and plot a latitude or longitude slice."
      ],
      "metadata": {
        "id": "sdm0O1DCz6zO"
      }
    },
    {
      "cell_type": "markdown",
      "source": [
        "### Solution"
      ],
      "metadata": {
        "id": "u8I0F_kb0KLt"
      }
    },
    {
      "cell_type": "code",
      "source": [
        "sacr = pyart.io.read('/content/20220701/houxsacrcfrM1.a1.20220701.192929.nc')"
      ],
      "metadata": {
        "id": "RxVRIlQGwlBq"
      },
      "execution_count": null,
      "outputs": []
    },
    {
      "cell_type": "code",
      "source": [
        "sacr.scan_type"
      ],
      "metadata": {
        "id": "umPAiWM90UP8"
      },
      "execution_count": null,
      "outputs": []
    },
    {
      "cell_type": "code",
      "source": [
        "sacr.sweep_number['data']"
      ],
      "metadata": {
        "id": "_edtGv3n0y9v"
      },
      "execution_count": null,
      "outputs": []
    },
    {
      "cell_type": "code",
      "source": [
        "grid = pyart.map.grid_from_radars(sacr, grid_shape=(41, 201, 201), \n",
        "                                  grid_limits=((0.,20000,), (-25000., 25000.), (-25000, 25000.)))"
      ],
      "metadata": {
        "id": "S5w5ywF30VNK"
      },
      "execution_count": null,
      "outputs": []
    },
    {
      "cell_type": "code",
      "source": [
        "fig = plt.figure(figsize=[8, 8])\n",
        "display = pyart.graph.GridMapDisplayBasemap(grid)\n",
        "display.plot_grid('reflectivity', level=1, vmin=-20, vmax=60)"
      ],
      "metadata": {
        "id": "6d-4Bbdk0fuK"
      },
      "execution_count": null,
      "outputs": []
    },
    {
      "cell_type": "code",
      "source": [],
      "metadata": {
        "id": "O5zac1Lr0j6T"
      },
      "execution_count": null,
      "outputs": []
    }
  ]
}