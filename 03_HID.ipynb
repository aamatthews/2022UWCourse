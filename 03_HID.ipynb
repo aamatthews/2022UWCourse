{
  "nbformat": 4,
  "nbformat_minor": 0,
  "metadata": {
    "colab": {
      "provenance": [],
      "toc_visible": true,
      "authorship_tag": "ABX9TyOTbpvBgE36Y+5/FIylk4D4",
      "include_colab_link": true
    },
    "kernelspec": {
      "name": "python3",
      "display_name": "Python 3"
    },
    "language_info": {
      "name": "python"
    }
  },
  "cells": [
    {
      "cell_type": "markdown",
      "metadata": {
        "id": "view-in-github",
        "colab_type": "text"
      },
      "source": [
        "<a href=\"https://colab.research.google.com/github/aamatthews/2022UWCourse/blob/main/03_HID.ipynb\" target=\"_parent\"><img src=\"https://colab.research.google.com/assets/colab-badge.svg\" alt=\"Open In Colab\"/></a>"
      ]
    },
    {
      "cell_type": "markdown",
      "source": [
        "Now that you have been familiarized with PyART a bit, I will show you another library - CSU Radartools. This library contains many useful things, some of which are similar to PyART but different algorithms (such as KDP calculation), and others are not (Hydrometeor Identificaton). \n",
        "\n",
        "We will run through a small portion of this demo notebook, provided by Tim Lang and CSU. It contains many examples for the various algorithms in CSU Radartools, so I encourage you to take a look at it in more detail later!\n",
        "https://github.com/CSU-Radarmet/CSU_RadarTools/blob/master/notebooks/CSU_RadarTools_Demo.ipynb"
      ],
      "metadata": {
        "id": "CiunWT065F_2"
      }
    },
    {
      "cell_type": "markdown",
      "source": [
        "Let's take a look at their HID algorithm now."
      ],
      "metadata": {
        "id": "oCMRp3re3Yer"
      }
    },
    {
      "cell_type": "markdown",
      "source": [
        "#Setup"
      ],
      "metadata": {
        "id": "PKMOTQ_N3g-H"
      }
    },
    {
      "cell_type": "code",
      "source": [
        "!git clone https://github.com/CSU-Radarmet/CSU_RadarTools"
      ],
      "metadata": {
        "id": "-wKtVGvz1cAB"
      },
      "execution_count": null,
      "outputs": []
    },
    {
      "cell_type": "code",
      "source": [
        "import sys\n",
        "!cd CSU_RadarTools && {sys.executable} -m pip install .\n"
      ],
      "metadata": {
        "id": "B7rvwBOZ7TZm"
      },
      "execution_count": null,
      "outputs": []
    },
    {
      "cell_type": "code",
      "source": [
        "!git clone https://github.com/tjlang/SkewT.git"
      ],
      "metadata": {
        "id": "7ma-rOt-NDm0"
      },
      "execution_count": null,
      "outputs": []
    },
    {
      "cell_type": "code",
      "source": [
        "!cd SkewT && {sys.executable} -m pip install ."
      ],
      "metadata": {
        "id": "Wl8V8RiPNGkQ"
      },
      "execution_count": null,
      "outputs": []
    },
    {
      "cell_type": "code",
      "source": [
        "!wget https://engineering.arm.gov/~amatthews/hou_data_sample/20220701.zip"
      ],
      "metadata": {
        "id": "1jYRCSnkP98-"
      },
      "execution_count": null,
      "outputs": []
    },
    {
      "cell_type": "code",
      "source": [
        "!unzip 20220701.zip"
      ],
      "metadata": {
        "id": "Po3SEk7TP_MS"
      },
      "execution_count": null,
      "outputs": []
    },
    {
      "cell_type": "markdown",
      "source": [
        "We will also need a sounding for this. I grabbed one from Lake Charles, Tx for this case from the University of Wyoming sounding page, as unfortunately Houston does not launch regular radiosondes. ARM did launch soundings during this campaign, and that data could be read in as well and worked to fit the expected UWyoming sounding format."
      ],
      "metadata": {
        "id": "yd3FmxOeLCIv"
      }
    },
    {
      "cell_type": "code",
      "source": [
        "!wget https://engineering.arm.gov/~amatthews/hou_data_sample/LCH_snd_20220701.txt"
      ],
      "metadata": {
        "id": "cGOIZdGhLBQx"
      },
      "execution_count": null,
      "outputs": []
    },
    {
      "cell_type": "code",
      "source": [
        "!pip install arm-pyart"
      ],
      "metadata": {
        "id": "68209ARoNfib"
      },
      "execution_count": null,
      "outputs": []
    },
    {
      "cell_type": "code",
      "source": [
        "from csu_radartools import (csu_fhc, csu_liquid_ice_mass, csu_blended_rain,\n",
        "                            csu_dsd, csu_kdp, csu_misc, fundamentals)"
      ],
      "metadata": {
        "id": "8WECkBJi7bAK"
      },
      "execution_count": null,
      "outputs": []
    },
    {
      "cell_type": "code",
      "source": [
        "import numpy as np\n",
        "import matplotlib.pyplot as plt\n",
        "import matplotlib.colors as colors\n",
        "import pyart\n",
        "import glob\n",
        "from skewt import SkewT\n",
        "from csu_radartools import (csu_fhc, csu_liquid_ice_mass, csu_blended_rain, \n",
        "                            csu_dsd, csu_kdp, csu_misc, fundamentals)\n",
        "%matplotlib inline"
      ],
      "metadata": {
        "id": "b0h2IAAD7fmI"
      },
      "execution_count": null,
      "outputs": []
    },
    {
      "cell_type": "markdown",
      "source": [
        "# Functions\n",
        "Let's define a few functions that will get used throughout this notebook, so we don't have to write them every time. You can just run the lines below that start with 'def', and can look at them later if you would like to learn what they are doing internally (this is a great way to learn to code better!)"
      ],
      "metadata": {
        "id": "P5u8Cxp43n_0"
      }
    },
    {
      "cell_type": "code",
      "source": [
        "def radar_coords_to_cart(rng, az, ele, debug=False):\n",
        "    \"\"\"\n",
        "    TJL - taken from old Py-ART version\n",
        "    Calculate Cartesian coordinate from radar coordinates\n",
        "    Parameters\n",
        "    ----------\n",
        "    rng : array\n",
        "        Distances to the center of the radar gates (bins) in kilometers.\n",
        "    az : array\n",
        "        Azimuth angle of the radar in degrees.\n",
        "    ele : array\n",
        "        Elevation angle of the radar in degrees.\n",
        "    Returns\n",
        "    -------\n",
        "    x, y, z : array\n",
        "        Cartesian coordinates in meters from the radar.\n",
        "    Notes\n",
        "    -----\n",
        "    The calculation for Cartesian coordinate is adapted from equations\n",
        "    2.28(b) and 2.28(c) of Doviak and Zrnic [1]_ assuming a\n",
        "    standard atmosphere (4/3 Earth's radius model).\n",
        "    .. math::\n",
        "        z = \\\\sqrt{r^2+R^2+r*R*sin(\\\\theta_e)} - R\n",
        "        s = R * arcsin(\\\\frac{r*cos(\\\\theta_e)}{R+z})\n",
        "        x = s * sin(\\\\theta_a)\n",
        "        y = s * cos(\\\\theta_a)\n",
        "    Where r is the distance from the radar to the center of the gate,\n",
        "    :math:\\\\theta_a is the azimuth angle, :math:\\\\theta_e is the\n",
        "    elevation angle, s is the arc length, and R is the effective radius\n",
        "    of the earth, taken to be 4/3 the mean radius of earth (6371 km).\n",
        "    References\n",
        "    ----------\n",
        "    .. [1] Doviak and Zrnic, Doppler Radar and Weather Observations, Second\n",
        "        Edition, 1993, p. 21.\n",
        "    \"\"\"\n",
        "    theta_e = ele * np.pi / 180.0  # elevation angle in radians.\n",
        "    theta_a = az * np.pi / 180.0  # azimuth angle in radians.\n",
        "    R = 6371.0 * 1000.0 * 4.0 / 3.0  # effective radius of earth in meters.\n",
        "    r = rng * 1000.0  # distances to gates in meters.\n",
        "\n",
        "    z = (r ** 2 + R ** 2 + 2.0 * r * R * np.sin(theta_e)) ** 0.5 - R\n",
        "    s = R * np.arcsin(r * np.cos(theta_e) / (R + z))  # arc length in m.\n",
        "    x = s * np.sin(theta_a)\n",
        "    y = s * np.cos(theta_a)\n",
        "    return x, y, z\n",
        "\n",
        "\n",
        "def get_z_from_radar(radar):\n",
        "    \"\"\"Input radar object, return z from radar (km, 2D)\"\"\"\n",
        "    azimuth_1D = radar.azimuth['data']\n",
        "    elevation_1D = radar.elevation['data']\n",
        "    srange_1D = radar.range['data']\n",
        "    sr_2d, az_2d = np.meshgrid(srange_1D, azimuth_1D)\n",
        "    el_2d = np.meshgrid(srange_1D, elevation_1D)[1]\n",
        "    xx, yy, zz = radar_coords_to_cart(sr_2d/1000.0, az_2d, el_2d)\n",
        "    return zz + radar.altitude['data']\n",
        "\n",
        "\n",
        "def check_sounding_for_montonic(sounding):\n",
        "    \"\"\"\n",
        "    So the sounding interpolation doesn't fail, force the sounding to behave\n",
        "    monotonically so that z always increases. This eliminates data from\n",
        "    descending balloons.\n",
        "    \"\"\"\n",
        "    snd_T = sounding.soundingdata['temp']  # In old SkewT, was sounding.data\n",
        "    snd_z = sounding.soundingdata['hght']  # In old SkewT, was sounding.data\n",
        "    dummy_z = []\n",
        "    dummy_T = []\n",
        "    if not snd_T.mask[0]: #May cause issue for specific soundings\n",
        "        dummy_z.append(snd_z[0])\n",
        "        dummy_T.append(snd_T[0])\n",
        "        for i, height in enumerate(snd_z):\n",
        "            if i > 0:\n",
        "                if snd_z[i] > snd_z[i-1] and not snd_T.mask[i]:\n",
        "                    dummy_z.append(snd_z[i])\n",
        "                    dummy_T.append(snd_T[i])\n",
        "        snd_z = np.array(dummy_z)\n",
        "        snd_T = np.array(dummy_T)\n",
        "    return snd_T, snd_z\n",
        "\n",
        "\n",
        "def interpolate_sounding_to_radar(sounding, radar):\n",
        "    \"\"\"Takes sounding data and interpolates it to every radar gate.\"\"\"\n",
        "    radar_z = get_z_from_radar(radar)\n",
        "    radar_T = None\n",
        "    snd_T, snd_z = check_sounding_for_montonic(sounding)\n",
        "    shape = np.shape(radar_z)\n",
        "    rad_z1d = radar_z.ravel()\n",
        "    rad_T1d = np.interp(rad_z1d, snd_z, snd_T)\n",
        "    return np.reshape(rad_T1d, shape), radar_z"
      ],
      "metadata": {
        "id": "0qv5XVSmYxF-"
      },
      "execution_count": null,
      "outputs": []
    },
    {
      "cell_type": "code",
      "source": [
        "def add_field_to_radar_object(field, radar, field_name='FH', units='unitless', \n",
        "                              long_name='Hydrometeor ID', standard_name='Hydrometeor ID',\n",
        "                              dz_field='reflectivity'):\n",
        "    \"\"\"\n",
        "    Adds a newly created field to the Py-ART radar object. If reflectivity is a masked array,\n",
        "    make the new field masked the same as reflectivity.\n",
        "    \"\"\"\n",
        "    fill_value = -32768\n",
        "    masked_field = np.ma.asanyarray(field)\n",
        "    masked_field.mask = masked_field == fill_value\n",
        "    if hasattr(radar.fields[dz_field]['data'], 'mask'):\n",
        "        setattr(masked_field, 'mask', \n",
        "                np.logical_or(masked_field.mask, radar.fields[dz_field]['data'].mask))\n",
        "        fill_value = radar.fields[dz_field]['_FillValue']\n",
        "    field_dict = {'data': masked_field,\n",
        "                  'units': units,\n",
        "                  'long_name': long_name,\n",
        "                  'standard_name': standard_name,\n",
        "                  '_FillValue': fill_value}\n",
        "    radar.add_field(field_name, field_dict, replace_existing=True)\n",
        "    return radar"
      ],
      "metadata": {
        "id": "1YO1bKv_UDjx"
      },
      "execution_count": null,
      "outputs": []
    },
    {
      "cell_type": "code",
      "source": [
        "hid_colors = ['White', 'LightBlue', 'MediumBlue', 'DarkOrange', 'LightPink',\n",
        "              'Cyan', 'DarkGray', 'Lime', 'Yellow', 'Red', 'Fuchsia']\n",
        "cmaphid = colors.ListedColormap(hid_colors)\n",
        "cmapmeth = colors.ListedColormap(hid_colors[0:6])\n",
        "cmapmeth_trop = colors.ListedColormap(hid_colors[0:7])\n",
        "\n",
        "def adjust_fhc_colorbar_for_pyart(cb):\n",
        "    cb.set_ticks(np.arange(1.4, 10, 0.9))\n",
        "    cb.ax.set_yticklabels(['Drizzle', 'Rain', 'Ice Crystals', 'Aggregates',\n",
        "                           'Wet Snow', 'Vertical Ice', 'LD Graupel',\n",
        "                           'HD Graupel', 'Hail', 'Big Drops'])\n",
        "    cb.ax.set_ylabel('')\n",
        "    cb.ax.tick_params(length=0)\n",
        "    return cb\n",
        "\n",
        "def adjust_meth_colorbar_for_pyart(cb, tropical=False):\n",
        "    if not tropical:\n",
        "        cb.set_ticks(np.arange(1.25, 5, 0.833))\n",
        "        cb.ax.set_yticklabels(['R(Kdp, Zdr)', 'R(Kdp)', 'R(Z, Zdr)', 'R(Z)', 'R(Zrain)'])\n",
        "    else:\n",
        "        cb.set_ticks(np.arange(1.3, 6, 0.85))\n",
        "        cb.ax.set_yticklabels(['R(Kdp, Zdr)', 'R(Kdp)', 'R(Z, Zdr)', 'R(Z_all)', 'R(Z_c)', 'R(Z_s)'])\n",
        "    cb.ax.set_ylabel('')\n",
        "    cb.ax.tick_params(length=0)\n",
        "    return cb"
      ],
      "metadata": {
        "id": "kDnlxCvEUKU6"
      },
      "execution_count": null,
      "outputs": []
    },
    {
      "cell_type": "code",
      "source": [
        "def two_panel_plot_ppi(radar, sweep=0, var1='reflectivity', vmin1=0, vmax1=65,\n",
        "                   cmap1='RdYlBu_r', units1='dBZ', var2='differential_reflectivity',\n",
        "                   vmin2=-5, vmax2=5, cmap2='RdYlBu_r', units2='dB', return_flag=False,\n",
        "                   xlim=[-100,100], ylim=[-100,100]):\n",
        "    display = pyart.graph.RadarDisplay(radar)\n",
        "    fig = plt.figure(figsize=(13,5))\n",
        "    ax1 = fig.add_subplot(121)\n",
        "    display.plot_ppi(var1, sweep=sweep, vmin=vmin1, vmax=vmax1, cmap=cmap1, \n",
        "                     colorbar_label=units1, mask_outside=True)\n",
        "    display.set_limits(xlim=xlim, ylim=ylim)\n",
        "    ax2 = fig.add_subplot(122)\n",
        "    display.plot_ppi(var2, sweep=sweep, vmin=vmin2, vmax=vmax2, cmap=cmap2, \n",
        "                     colorbar_label=units2, mask_outside=False)\n",
        "    display.set_limits(xlim=xlim, ylim=ylim)\n",
        "    if return_flag:\n",
        "        return fig, ax1, ax2, display"
      ],
      "metadata": {
        "id": "4yU504dDWljZ"
      },
      "execution_count": null,
      "outputs": []
    },
    {
      "cell_type": "code",
      "source": [
        "def two_panel_plot_rhi(radar, sweep=0, var1='reflectivity', vmin1=0, vmax1=65,\n",
        "                   cmap1='RdYlBu_r', units1='dBZ', var2='differential_reflectivity',\n",
        "                   vmin2=-5, vmax2=5, cmap2='RdYlBu_r', units2='dB', return_flag=False,\n",
        "                   xlim=[-100,100], ylim=[-100,100]):\n",
        "    display = pyart.graph.RadarDisplay(radar)\n",
        "    fig = plt.figure(figsize=(13,5))\n",
        "    ax1 = fig.add_subplot(121)\n",
        "    display.plot_rhi(var1, sweep=sweep, vmin=vmin1, vmax=vmax1, cmap=cmap1, \n",
        "                     colorbar_label=units1, mask_outside=True)\n",
        "    display.set_limits(xlim=xlim, ylim=ylim)\n",
        "    ax2 = fig.add_subplot(122)\n",
        "    display.plot_rhi(var2, sweep=sweep, vmin=vmin2, vmax=vmax2, cmap=cmap2, \n",
        "                     colorbar_label=units2, mask_outside=False)\n",
        "    display.set_limits(xlim=xlim, ylim=ylim)\n",
        "    if return_flag:\n",
        "        return fig, ax1, ax2, display"
      ],
      "metadata": {
        "id": "c0rnFLCEXxgh"
      },
      "execution_count": null,
      "outputs": []
    },
    {
      "cell_type": "markdown",
      "source": [
        "# HID"
      ],
      "metadata": {
        "id": "7mnai3gxDN7H"
      }
    },
    {
      "cell_type": "code",
      "source": [
        "#Read in the data\n",
        "sndfile = '/content/LCH_snd_20220701.txt'\n",
        "radarfile = '/content/20220701/houcsapr2cfrS2.a1.20220701.192511.nc'\n",
        "radar = pyart.io.read(radarfile)\n",
        "print(radar.fields.keys())\n",
        "sounding = SkewT.Sounding(sndfile)"
      ],
      "metadata": {
        "id": "UmcD9BFD8sUd"
      },
      "execution_count": null,
      "outputs": []
    },
    {
      "cell_type": "code",
      "source": [
        "dz = radar.fields['reflectivity']['data']\n",
        "dr = radar.fields['differential_reflectivity']['data']\n",
        "kd = radar.fields['specific_differential_phase']['data']\n",
        "rh = radar.fields['copol_correlation_coeff']['data']"
      ],
      "metadata": {
        "id": "faZLWN6NRiXA"
      },
      "execution_count": null,
      "outputs": []
    },
    {
      "cell_type": "markdown",
      "source": [
        "We need to interpolate the sounding so it is in the same structure as the radar data."
      ],
      "metadata": {
        "id": "1iK-HNk7Da0S"
      }
    },
    {
      "cell_type": "code",
      "source": [
        "radar_T, radar_z = interpolate_sounding_to_radar(sounding, radar)"
      ],
      "metadata": {
        "id": "juHfJwsuTGth"
      },
      "execution_count": null,
      "outputs": []
    },
    {
      "cell_type": "markdown",
      "source": [
        "And now we are ready to run the HID function, and add it to our radar object."
      ],
      "metadata": {
        "id": "RdZl0gkaDmeI"
      }
    },
    {
      "cell_type": "code",
      "source": [
        "scores = csu_fhc.csu_fhc_summer(dz=dz, zdr=dr, rho=rh, kdp=kd, use_temp=True, band='C',\n",
        "                                T=radar_T)\n",
        "fh = scores -1"
      ],
      "metadata": {
        "id": "awf8whn0TSlK"
      },
      "execution_count": null,
      "outputs": []
    },
    {
      "cell_type": "code",
      "source": [
        "radar = add_field_to_radar_object(fh, radar)\n"
      ],
      "metadata": {
        "id": "D5TSJfvQUIut"
      },
      "execution_count": null,
      "outputs": []
    },
    {
      "cell_type": "markdown",
      "source": [
        "The HIDs included in this are:\n",
        "1. Drizzle\n",
        "2. Rain\n",
        "3. Ice Crystals\n",
        "4. Aggregates\n",
        "5. Wet/Melting Snow\n",
        "6. Vertically Aligned Ice\n",
        "7. Low-Density Graupel\n",
        "8. High-Density Graupel\n",
        "9. Hail\n",
        "10. Big Drops"
      ],
      "metadata": {
        "id": "aW_0nYHjDr2H"
      }
    },
    {
      "cell_type": "code",
      "source": [
        "# Actual plotting done here\n",
        "limx = [-80, 80]\n",
        "limy = [0,20]\n",
        "fig, ax1, ax2, display = two_panel_plot_rhi(\n",
        "    radar, sweep=0, var1='reflectivity', var2='FH', vmin2=0, vmax2=10,\n",
        "    cmap2=cmaphid, units2='', return_flag=True, xlim=limx, ylim=limy)\n",
        "display.cbs[1] = adjust_fhc_colorbar_for_pyart(display.cbs[1])"
      ],
      "metadata": {
        "id": "gvb_61_iVxmn"
      },
      "execution_count": null,
      "outputs": []
    },
    {
      "cell_type": "markdown",
      "source": [
        "#HID for XSACR"
      ],
      "metadata": {
        "id": "Y4Y4_O5MELWF"
      }
    },
    {
      "cell_type": "code",
      "source": [
        "#Read in the data\n",
        "sndfile = '/content/LCH_snd_20220701.txt'\n",
        "radarfile = '/content/20220701/houxsacrcfrM1.a1.20220701.192451.nc'\n",
        "radar = pyart.io.read(radarfile)\n",
        "print(radar.fields.keys())\n",
        "sounding = SkewT.Sounding(sndfile)"
      ],
      "metadata": {
        "id": "v1Y41Ly1V0Gl"
      },
      "execution_count": null,
      "outputs": []
    },
    {
      "cell_type": "code",
      "source": [
        "radar.metadata['scan_name']"
      ],
      "metadata": {
        "id": "89sE7Logayf4"
      },
      "execution_count": null,
      "outputs": []
    },
    {
      "cell_type": "code",
      "source": [
        "dz = radar.fields['reflectivity']['data']\n",
        "dr = radar.fields['differential_reflectivity']['data']\n",
        "kd = radar.fields['specific_differential_phase']['data']\n",
        "rh = radar.fields['copol_correlation_coeff']['data']"
      ],
      "metadata": {
        "id": "AINhcRUcZIuU"
      },
      "execution_count": null,
      "outputs": []
    },
    {
      "cell_type": "markdown",
      "source": [
        "Uh oh, this radar doesn't include a pre-calculated KDP. Fortunately, the csu_radartools library has a function for that!"
      ],
      "metadata": {
        "id": "58kExghsEDIg"
      }
    },
    {
      "cell_type": "code",
      "source": [
        "def extract_unmasked_data(radar, field, bad=-32768):\n",
        "    \"\"\"Simplify getting unmasked radar fields from Py-ART\"\"\"\n",
        "    return radar.fields[field]['data'].filled(fill_value=bad)"
      ],
      "metadata": {
        "id": "L-MygTm7ZK9P"
      },
      "execution_count": null,
      "outputs": []
    },
    {
      "cell_type": "code",
      "source": [
        "dz = extract_unmasked_data(radar, 'reflectivity')\n",
        "dp = extract_unmasked_data(radar, 'differential_phase')\n",
        "# Range needs to be supplied as a variable, and it needs to be the same shape as dzN, etc.\n",
        "rng2d, az2d = np.meshgrid(radar.range['data'], radar.azimuth['data'])"
      ],
      "metadata": {
        "id": "E2711gVjZ1EL"
      },
      "execution_count": null,
      "outputs": []
    },
    {
      "cell_type": "markdown",
      "source": [
        "Now that we have all our needed inputs to calculate Kdp, the function we will call is csu_kdp.calc_kdp_bringi. It returns Kdp, filtered differential phase, and standard deviation of differential phase. Input variables can be 1D (rays) or 2D (azimuth/elevation and rays). The fundamental algorithm works on a ray-by-ray basis\n",
        "___\n",
        "gs is the gate spacing that the radar data use, in meters. \n",
        "\n",
        "window is the length (km) over which to apply the phase filtering. Default is 3 km. \n",
        "\n",
        "thsd is the threshold to apply to the standard deviation of differential phase (deg). "
      ],
      "metadata": {
        "id": "ruvtsUsXEdLA"
      }
    },
    {
      "cell_type": "code",
      "source": [
        "kd, fd, sd = csu_kdp.calc_kdp_bringi(\n",
        "    dp=dp, dz=dz, rng=rng2d/1000.0, thsd=12, gs=250.0, window=5)"
      ],
      "metadata": {
        "id": "P3P_SkOLZ6md"
      },
      "execution_count": null,
      "outputs": []
    },
    {
      "cell_type": "code",
      "source": [
        "radar = add_field_to_radar_object(kd, radar, field_name='KDP', units='deg/km', \n",
        "                                   long_name='Specific Differential Phase',\n",
        "                                   standard_name='Specific Differential Phase', \n",
        "                                   dz_field='reflectivity')\n",
        "radar = add_field_to_radar_object(fd, radar, field_name='FDP', units='deg', \n",
        "                                   long_name='Filtered Differential Phase',\n",
        "                                   standard_name='Filtered Differential Phase', \n",
        "                                   dz_field='reflectivity')\n",
        "radar = add_field_to_radar_object(sd, radar, field_name='SDP', units='deg', \n",
        "                                   long_name='Standard Deviation of Differential Phase',\n",
        "                                   standard_name='Standard Deviation of Differential Phase', \n",
        "                                   dz_field='reflectivity')"
      ],
      "metadata": {
        "id": "PcRNN73IaeOc"
      },
      "execution_count": null,
      "outputs": []
    },
    {
      "cell_type": "code",
      "source": [
        "limx = [-30, 30]\n",
        "limy = [0,15]\n",
        "two_panel_plot_rhi(radar, sweep=0, var1='reflectivity', vmin1=0, vmax1=65.0, \n",
        "               cmap1='RdYlBu_r', units1='dBZ',\n",
        "               var2='differential_phase', vmin2=-180, vmax2=0, \n",
        "               cmap2='cubehelix', units2='deg', \n",
        "               xlim=limx, ylim=limy)"
      ],
      "metadata": {
        "id": "22e_8y7qalEa"
      },
      "execution_count": null,
      "outputs": []
    },
    {
      "cell_type": "code",
      "source": [
        "#Now let's see the filtered and specific differential phase fields\n",
        "two_panel_plot_rhi(radar, sweep=0, var1='FDP', vmin1=0, vmax1=720, \n",
        "               cmap1='cubehelix', units1='deg',\n",
        "               var2='KDP', vmin2=-5, vmax2=5, cmap2='RdYlBu', units2='deg/km', \n",
        "               xlim=limx, ylim=limy)"
      ],
      "metadata": {
        "id": "D6gtPv5Pao1O"
      },
      "execution_count": null,
      "outputs": []
    },
    {
      "cell_type": "markdown",
      "source": [
        "Great! Now that we have our KDP (even if there is very little signature for the storms in this scan), lets get back to the HID. "
      ],
      "metadata": {
        "id": "Zz7Uzu-aFESP"
      }
    },
    {
      "cell_type": "code",
      "source": [
        "dz = radar.fields['reflectivity']['data']\n",
        "dr = radar.fields['differential_reflectivity']['data']\n",
        "kd = radar.fields['KDP']['data']\n",
        "rh = radar.fields['copol_correlation_coeff']['data']"
      ],
      "metadata": {
        "id": "YWzjI43EboZC"
      },
      "execution_count": null,
      "outputs": []
    },
    {
      "cell_type": "code",
      "source": [
        "radar_T, radar_z = interpolate_sounding_to_radar(sounding, radar)"
      ],
      "metadata": {
        "id": "vd2bXazicOxM"
      },
      "execution_count": null,
      "outputs": []
    },
    {
      "cell_type": "code",
      "source": [
        "scores = csu_fhc.csu_fhc_summer(dz=dz, zdr=dr, rho=rh, kdp=kd, use_temp=True, band='X',\n",
        "                                T=radar_T)\n",
        "fh = scores -1"
      ],
      "metadata": {
        "id": "U_JtUZFLcXHp"
      },
      "execution_count": null,
      "outputs": []
    },
    {
      "cell_type": "code",
      "source": [
        "radar = add_field_to_radar_object(fh, radar)\n"
      ],
      "metadata": {
        "id": "IyTZ4RbIccdn"
      },
      "execution_count": null,
      "outputs": []
    },
    {
      "cell_type": "code",
      "source": [
        "# Actual plotting done here\n",
        "limx = [-30, 30]\n",
        "limy = [0,15]\n",
        "fig, ax1, ax2, display = two_panel_plot_rhi(\n",
        "    radar, sweep=0, var1='reflectivity', var2='FH', vmin2=0, vmax2=10,\n",
        "    cmap2=cmaphid, units2='', return_flag=True, xlim=limx, ylim=limy)\n",
        "display.cbs[1] = adjust_fhc_colorbar_for_pyart(display.cbs[1])"
      ],
      "metadata": {
        "id": "qPg1VF9nciTS"
      },
      "execution_count": null,
      "outputs": []
    },
    {
      "cell_type": "markdown",
      "source": [
        "What features do you notice are picked up in the HID?"
      ],
      "metadata": {
        "id": "5TfjjIdGFQTo"
      }
    }
  ]
}